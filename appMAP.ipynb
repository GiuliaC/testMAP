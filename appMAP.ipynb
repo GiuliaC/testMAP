{
 "cells": [
  {
   "cell_type": "code",
   "execution_count": null,
   "metadata": {},
   "outputs": [],
   "source": [
    "%%javascript\n",
    "$('#header').toggle();"
   ]
  },
  {
   "cell_type": "code",
   "execution_count": 11,
   "metadata": {},
   "outputs": [
    {
     "data": {
      "text/html": [
       "<style>.container { width:100% !important; }</style>"
      ],
      "text/plain": [
       "<IPython.core.display.HTML object>"
      ]
     },
     "metadata": {},
     "output_type": "display_data"
    }
   ],
   "source": [
    "from IPython.core.display import display, HTML\n",
    "display(HTML(\"<style>.container { width:100% !important; }</style>\"))"
   ]
  },
  {
   "cell_type": "code",
   "execution_count": 10,
   "metadata": {},
   "outputs": [
    {
     "name": "stdout",
     "output_type": "stream",
     "text": [
      "Width = 1707\n",
      "Height = 960\n"
     ]
    }
   ],
   "source": [
    "#from win32api import GetSystemMetrics\n",
    "\n",
    "#print(\"Width =\", GetSystemMetrics(0))\n",
    "#print(\"Height =\", GetSystemMetrics(1))"
   ]
  },
  {
   "cell_type": "code",
   "execution_count": 8,
   "metadata": {},
   "outputs": [
    {
     "data": {
      "application/vnd.jupyter.widget-view+json": {
       "model_id": "2e64fb0704a2432ba2aa212ce2243285",
       "version_major": 2,
       "version_minor": 0
      },
      "text/plain": [
       "AppLayout(children=(GridspecLayout(children=(HTML(value='<h1>Find Destinations Around Me</h1>', layout=Layout(…"
      ]
     },
     "metadata": {},
     "output_type": "display_data"
    }
   ],
   "source": [
    "from ipyleaflet import Map, basemaps, basemap_to_tiles, Heatmap, Circle\n",
    "from ipywidgets import HTML, Layout, Dropdown, Text, Button, VBox, Box, Label \n",
    "from ipywidgets import AppLayout, GridspecLayout, interact\n",
    "from geopy.geocoders import Nominatim\n",
    "import numpy as np\n",
    "import pandas as pd\n",
    "from datetime import datetime\n",
    "\n",
    "geolocator = Nominatim(user_agent=\"appMAP_cernicchiaro.giulia@gmail.com\")\n",
    "\n",
    "maps = {'Standard' : basemaps.OpenStreetMap.Mapnik,\n",
    "        'Esri' : basemaps.Esri.DeLorme}\n",
    "\n",
    "state = sorted(list(pd.read_csv('C:\\\\deconMAP\\\\sql-pays.csv', sep=',', low_memory=False, header=None)[4]))\n",
    "#state = sorted(list(pd.read_csv('sql-pays.csv', sep=',', low_memory=False, header=None)[4]))\n",
    "\n",
    "#deps = {x['NOM']:x['DEP'] for i,x in pd.read_csv('C:\\\\deconMAP\\\\DepFra.csv', sep=',', low_memory=False).iterrows()}\n",
    "\n",
    "\n",
    "header = HTML(\"<h1>Find Destinations Around Me</h1>\", layout=Layout(height='auto'))\n",
    "header.style.text_align='center'\n",
    "\n",
    "basemap_selector = Dropdown( options = list(maps.keys()), layout=Layout(width='auto') )\n",
    "state_selector = Dropdown( options = list(state), layout=Layout(width='auto') )\n",
    "#department_selector = Dropdown( options = list(deps.keys()), layout=Layout(width='auto') )\n",
    "\n",
    "basemap_selector.value = 'Standard'\n",
    "state_selector.value = 'France'\n",
    "#department_selector.value = None\n",
    "\n",
    "main_map = Map(basemap=basemaps.OpenStreetMap.Mapnik)\n",
    "main_map.layout.height = 'auto'\n",
    "\n",
    "center_map = geolocator.geocode(state_selector.value)\n",
    "main_map.center = (center_map.latitude, center_map.longitude)\n",
    "main_map.zoom = 6\n",
    "\n",
    "circle = Circle()\n",
    "\n",
    "user_selection = Text(placeholder='Saisir une adresse')\n",
    "user_validation = Button(description='Valider', button_style='info', tooltip='Calculer le rayon')\n",
    "\n",
    "user_selection.layout.width = '80%'\n",
    "#user_selection.layout.height = 'auto'\n",
    "\n",
    "out = HTML(\n",
    "    value='',\n",
    "    layout=Layout(width='auto', height='auto')\n",
    ")\n",
    "\n",
    "\n",
    "rows = []\n",
    "\n",
    "def add_log(msg):\n",
    "    max_rows = 100\n",
    "    rows.append(msg)\n",
    "    if len(rows) > max_rows:\n",
    "        rows.pop(0)\n",
    "    return '<h4>Activity log</h4><ul>{}</ul>'.format('<li>'.join([''] + rows))\n",
    "\n",
    "def get_addresses(dep):\n",
    "    file = 'C:\\\\deconMAP\\\\adresses_treated\\\\ban-' + str(dep) + '.csv.gz'\n",
    "    return pd.read_csv(file, compression='gzip', sep=',', low_memory=False)\n",
    "\n",
    "def handle_interaction(**kwargs):\n",
    "    if kwargs['type'] == 'click':\n",
    "        found_address = geolocator.reverse(str(kwargs['coordinates'][0])+', '+str(kwargs['coordinates'][1]), language='fr')\n",
    "        msg = '( %s ) Selected coordinates: lat %s , lon %s\\n' % (datetime.now(), found_address.latitude, found_address.longitude)\n",
    "        state_selector.value = found_address.address.split(', ')[-1]\n",
    "        if state_selector.value == 'France':\n",
    "            user_selection.value = found_address.address\n",
    "        else:\n",
    "            user_selection.value = found_address.address\n",
    "        msg += '-> %s\\n' % (state_selector.value)\n",
    "        out.value = add_log(msg)\n",
    "        circle.location = (kwargs['coordinates'][0], kwargs['coordinates'][1])\n",
    "        circle.radius = 1\n",
    "        circle.color = \"blue\"\n",
    "        main_map.layers = [basemap_to_tiles(maps[basemap_selector.value]), circle]\n",
    "\n",
    "def on_map_selected(change):\n",
    "    main_map.layers = [basemap_to_tiles(maps[basemap_selector.value]), circle]\n",
    "\n",
    "def on_state_selected(change):\n",
    "    center_map = geolocator.geocode(state_selector.value)\n",
    "    main_map.center = (center_map.latitude, center_map.longitude)\n",
    "    main_map.zoom = 6\n",
    "\n",
    "def on_button_clicked(b):\n",
    "    #main_map.fireEvent('click',{latlng:[x,y]})\n",
    "    found_address = geolocator.geocode(user_selection.value, language='fr')\n",
    "    msg = '( %s ) Result : %s (%s , %s)\\n' % (datetime.now(), found_address.address, found_address.latitude, found_address.longitude)\n",
    "    state_selector.value = found_address.address.split(', ')[-1]\n",
    "    out.value = add_log(msg)\n",
    "    circle.location = (found_address.latitude, found_address.longitude)\n",
    "    circle.radius = 1\n",
    "    circle.color = \"blue\"\n",
    "    main_map.layers = [basemap_to_tiles(maps[basemap_selector.value]), circle]\n",
    "    circle_radius = Circle()\n",
    "    circle_radius.location = (found_address.latitude, found_address.longitude)\n",
    "    circle_radius.radius = 100000\n",
    "    circle_radius.color = \"red\"\n",
    "    circle_radius.fill_color = \"green\"\n",
    "    main_map.add_layer(circle_radius)\n",
    "\n",
    "basemap_selector.observe(on_map_selected, names='value')\n",
    "\n",
    "state_selector.observe(on_state_selected, names='value')\n",
    "\n",
    "main_map.on_interaction(handle_interaction)\n",
    "\n",
    "user_validation.on_click(on_button_clicked)    \n",
    "\n",
    "\n",
    "grid_header = GridspecLayout(1, 4, height='auto')\n",
    "grid_header[0, :2] = header\n",
    "grid_header[0, 2] = VBox([Label(\"Pays:\"),state_selector])\n",
    "grid_header[0, 3] = VBox([Label(\"Basemap:\"),basemap_selector])\n",
    "\n",
    "grid_footer = GridspecLayout(4, 1, height='auto',width='auto')\n",
    "grid_footer[0,0] = VBox([Label(\"Adresse choisie:\"),Box([user_selection,user_validation])])\n",
    "grid_footer[1:2,0] = Box()\n",
    "grid_footer[3,0] = out\n",
    "\n",
    "AppLayout(header=grid_header,\n",
    "          center=main_map,\n",
    "          footer=grid_footer,\n",
    "          #pane_widths=[0, 1, 0],\n",
    "          pane_heights=['10%', '60%', '40%'],\n",
    "          #width='1000px',\n",
    "          height='1000px',\n",
    "          grid_gap=\"5px\")\n"
   ]
  },
  {
   "cell_type": "code",
   "execution_count": null,
   "metadata": {},
   "outputs": [],
   "source": []
  }
 ],
 "metadata": {
  "kernelspec": {
   "display_name": "Python 3",
   "language": "python",
   "name": "python3"
  },
  "language_info": {
   "codemirror_mode": {
    "name": "ipython",
    "version": 3
   },
   "file_extension": ".py",
   "mimetype": "text/x-python",
   "name": "python",
   "nbconvert_exporter": "python",
   "pygments_lexer": "ipython3",
   "version": "3.8.1"
  }
 },
 "nbformat": 4,
 "nbformat_minor": 4
}
